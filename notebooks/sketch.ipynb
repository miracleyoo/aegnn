{
 "cells": [
  {
   "cell_type": "code",
   "execution_count": 11,
   "metadata": {},
   "outputs": [
    {
     "name": "stdout",
     "output_type": "stream",
     "text": [
      "The autoreload extension is already loaded. To reload it, use:\n",
      "  %reload_ext autoreload\n"
     ]
    }
   ],
   "source": [
    "import sys\n",
    "import torch\n",
    "import numpy as np\n",
    "from torch_geometric.data import Data\n",
    "from torch_geometric.nn.pool import radius_graph\n",
    "from torch_geometric.transforms import FixedPoints\n",
    "from torch_geometric.loader import DataLoader\n",
    "from torch_geometric.transforms import Cartesian\n",
    "\n",
    "sys.path.append('..')\n",
    "import aegnn\n",
    "from aegnn.datasets.utils.normalization import normalize_time\n",
    "from events_utils import load_events\n",
    "\n",
    "%load_ext autoreload\n",
    "%autoreload 2"
   ]
  },
  {
   "cell_type": "code",
   "execution_count": 2,
   "metadata": {},
   "outputs": [
    {
     "name": "stderr",
     "output_type": "stream",
     "text": [
      "e:\\GitHub\\aegnn\\notebooks\\..\\aegnn\\models\\networks\\graph_wen.py:24: UserWarning: __floordiv__ is deprecated, and its behavior will change in a future version of pytorch. It currently rounds toward 0 (like the 'trunc' function NOT 'floor'). This results in incorrect rounding for negative values. To keep the current behavior, use torch.div(a, b, rounding_mode='trunc'), or for actual floor division, use torch.div(a, b, rounding_mode='floor').\n",
      "  self.pool_final = MaxPoolingX(input_shape[:2] // 2, size=4)\n"
     ]
    }
   ],
   "source": [
    "model = aegnn.models.networks.GraphWen(dataset='ncars', input_shape=torch.tensor([346,260,1]), num_outputs=2).cuda()\n",
    "# model = aegnn.asyncronous.make_model_asynchronous(model, r=1)"
   ]
  },
  {
   "cell_type": "code",
   "execution_count": 3,
   "metadata": {},
   "outputs": [],
   "source": [
    "model_mask = aegnn.models.networks.GraphMask(dataset='ncars', input_shape=torch.tensor([346,260,1]), num_outputs=2).cuda()"
   ]
  },
  {
   "cell_type": "code",
   "execution_count": 12,
   "metadata": {},
   "outputs": [
    {
     "name": "stderr",
     "output_type": "stream",
     "text": [
      "e:\\GitHub\\aegnn\\notebooks\\..\\aegnn\\models\\networks\\graph_mask_test.py:26: UserWarning: __floordiv__ is deprecated, and its behavior will change in a future version of pytorch. It currently rounds toward 0 (like the 'trunc' function NOT 'floor'). This results in incorrect rounding for negative values. To keep the current behavior, use torch.div(a, b, rounding_mode='trunc'), or for actual floor division, use torch.div(a, b, rounding_mode='floor').\n",
      "  self.pool_final = MaxPoolingX(input_shape[:2] // 2, size=4)\n"
     ]
    }
   ],
   "source": [
    "model_dual = aegnn.models.networks.GraphDual(dataset='ncars', input_shape=torch.tensor([346,260,1]), num_outputs=2).cuda()"
   ]
  },
  {
   "cell_type": "code",
   "execution_count": 4,
   "metadata": {},
   "outputs": [],
   "source": [
    "det_model = aegnn.models.DetectionModel('graph_wen', \n",
    "                                        dataset='ncars',\n",
    "                                        num_classes=2,\n",
    "                                        img_shape=(346,260), \n",
    "                                        dim=3).cuda()"
   ]
  },
  {
   "cell_type": "code",
   "execution_count": 14,
   "metadata": {},
   "outputs": [],
   "source": [
    "file_path = r'C:\\Users\\miracleyoo\\OneDrive - kcchub\\exp_dataset\\bkg_on\\events.h5'\n",
    "events = load_events(file_path, to_df=False)"
   ]
  },
  {
   "cell_type": "code",
   "execution_count": 15,
   "metadata": {},
   "outputs": [],
   "source": [
    "n_samples = 10000\n",
    "sampler = FixedPoints(num=n_samples, allow_duplicates=False, replace=False)"
   ]
  },
  {
   "cell_type": "code",
   "execution_count": 16,
   "metadata": {},
   "outputs": [],
   "source": [
    "events = events[:,np.r_[1,2,0,3]]\n",
    "events = torch.from_numpy(events.astype(float)).cuda().float()\n",
    "x, pos = events[:, -1:], events[:, :3]\n",
    "graph_data = Data(x=x, pos=pos).to('cuda')\n",
    "graph_data.pos[:, 2] = normalize_time(graph_data.pos[:, 2])\n",
    "graph_data = sampler(graph_data)\n",
    "graph_data.edge_index = radius_graph(graph_data.pos, r=3.0, max_num_neighbors=True)\n",
    "# 把两个node间距作为edge的attribute，Cartesian意思是笛卡尔坐标的\n",
    "edge_attr = Cartesian(norm=True, cat=False, max_value=None)\n",
    "graph_data = edge_attr(graph_data)"
   ]
  },
  {
   "cell_type": "code",
   "execution_count": 17,
   "metadata": {},
   "outputs": [],
   "source": [
    "data_list = [graph_data,graph_data]\n",
    "loader = DataLoader(data_list, batch_size=2)\n",
    "batch = next(iter(loader))"
   ]
  },
  {
   "cell_type": "code",
   "execution_count": 8,
   "metadata": {},
   "outputs": [
    {
     "data": {
      "text/plain": [
       "Data(x=[10000, 1], pos=[10000, 3], edge_index=[2, 2759], edge_attr=[2759, 3])"
      ]
     },
     "execution_count": 8,
     "metadata": {},
     "output_type": "execute_result"
    }
   ],
   "source": [
    "graph_data"
   ]
  },
  {
   "cell_type": "code",
   "execution_count": 21,
   "metadata": {},
   "outputs": [
    {
     "data": {
      "text/plain": [
       "DataBatch(x=[20000, 1], pos=[20000, 3], edge_index=[2, 5432], edge_attr=[5432, 3], batch=[20000], ptr=[3])"
      ]
     },
     "execution_count": 21,
     "metadata": {},
     "output_type": "execute_result"
    }
   ],
   "source": [
    "batch"
   ]
  },
  {
   "cell_type": "code",
   "execution_count": 11,
   "metadata": {},
   "outputs": [],
   "source": [
    "# graph_data.edge_attr[:100]"
   ]
  },
  {
   "cell_type": "code",
   "execution_count": 12,
   "metadata": {},
   "outputs": [
    {
     "data": {
      "text/plain": [
       "torch.Size([5606, 3])"
      ]
     },
     "execution_count": 12,
     "metadata": {},
     "output_type": "execute_result"
    }
   ],
   "source": [
    "batch.edge_attr.shape"
   ]
  },
  {
   "cell_type": "code",
   "execution_count": 13,
   "metadata": {},
   "outputs": [
    {
     "data": {
      "text/plain": [
       "tensor([[1.],\n",
       "        [1.],\n",
       "        [0.],\n",
       "        ...,\n",
       "        [1.],\n",
       "        [1.],\n",
       "        [1.]], device='cuda:0')"
      ]
     },
     "execution_count": 13,
     "metadata": {},
     "output_type": "execute_result"
    }
   ],
   "source": [
    "batch.x"
   ]
  },
  {
   "cell_type": "code",
   "execution_count": 14,
   "metadata": {},
   "outputs": [
    {
     "name": "stdout",
     "output_type": "stream",
     "text": [
      "torch.Size([176, 2])\n"
     ]
    }
   ],
   "source": [
    "res = model(batch)"
   ]
  },
  {
   "cell_type": "code",
   "execution_count": 9,
   "metadata": {},
   "outputs": [
    {
     "name": "stdout",
     "output_type": "stream",
     "text": [
      "torch.Size([20000, 1])\n",
      "torch.Size([20000, 1])\n"
     ]
    }
   ],
   "source": [
    "res_masks = model_mask(batch)\n",
    "print(batch.x.size())\n",
    "print(res_masks.shape)"
   ]
  },
  {
   "cell_type": "code",
   "execution_count": 18,
   "metadata": {},
   "outputs": [
    {
     "name": "stdout",
     "output_type": "stream",
     "text": [
      "torch.Size([20000, 2])\n"
     ]
    }
   ],
   "source": [
    "pred_labels, pred_masks = model_dual(batch)"
   ]
  },
  {
   "cell_type": "code",
   "execution_count": 19,
   "metadata": {},
   "outputs": [
    {
     "name": "stdout",
     "output_type": "stream",
     "text": [
      "torch.Size([20000, 1])\n",
      "torch.Size([2, 2])\n",
      "torch.Size([20000, 1])\n"
     ]
    }
   ],
   "source": [
    "print(batch.x.size())\n",
    "print(pred_labels.shape)\n",
    "print(pred_masks.shape)"
   ]
  },
  {
   "cell_type": "code",
   "execution_count": 34,
   "metadata": {},
   "outputs": [
    {
     "data": {
      "text/plain": [
       "torch.Size([20000, 64])"
      ]
     },
     "execution_count": 34,
     "metadata": {},
     "output_type": "execute_result"
    }
   ],
   "source": []
  },
  {
   "cell_type": "code",
   "execution_count": 35,
   "metadata": {},
   "outputs": [
    {
     "data": {
      "text/plain": [
       "torch.Size([176, 512])"
      ]
     },
     "execution_count": 35,
     "metadata": {},
     "output_type": "execute_result"
    }
   ],
   "source": [
    "res_masks.shape"
   ]
  },
  {
   "cell_type": "code",
   "execution_count": 22,
   "metadata": {},
   "outputs": [
    {
     "data": {
      "text/plain": [
       "tensor([[309.0000, 140.0000,  26.4502,   0.0000],\n",
       "        [214.0000,  26.0000,  26.4502,   0.0000],\n",
       "        [ 54.0000,  27.0000,  26.4502,   1.0000],\n",
       "        [298.0000, 136.0000,  26.4502,   1.0000],\n",
       "        [ 50.0000,  27.0000,  26.4502,   1.0000],\n",
       "        [233.0000,  10.0000,  26.4502,   0.0000],\n",
       "        [ 47.0000, 151.0000,  26.4502,   0.0000],\n",
       "        [315.0000, 139.0000,  26.4502,   1.0000],\n",
       "        [317.0000,  92.0000,  26.4502,   1.0000],\n",
       "        [231.0000,  47.0000,  26.4502,   0.0000]], device='cuda:0',\n",
       "       dtype=torch.float64)"
      ]
     },
     "execution_count": 22,
     "metadata": {},
     "output_type": "execute_result"
    }
   ],
   "source": [
    "events[20000000:20000010]"
   ]
  },
  {
   "cell_type": "code",
   "execution_count": 10,
   "metadata": {},
   "outputs": [
    {
     "name": "stdout",
     "output_type": "stream",
     "text": [
      "torch.Size([4, 4])\n"
     ]
    },
    {
     "data": {
      "text/plain": [
       "torch.Size([4, 4])"
      ]
     },
     "execution_count": 10,
     "metadata": {},
     "output_type": "execute_result"
    }
   ],
   "source": [
    "import torch\n",
    "from torch_spline_conv import spline_conv\n",
    "\n",
    "x = torch.rand((4, 2), dtype=torch.float)  # 4 nodes with 2 features each\n",
    "edge_index = torch.tensor([[0, 1, 1, 2, 2, 3], [1, 0, 2, 1, 3, 2]])  # 6 edges\n",
    "pseudo = torch.rand((6, 2), dtype=torch.float)  # two-dimensional edge attributes\n",
    "weight = torch.rand((25, 2, 4), dtype=torch.float)  # 25 parameters for in_channels x out_channels\n",
    "kernel_size = torch.tensor([5, 5])  # 5 parameters in each edge dimension\n",
    "is_open_spline = torch.tensor([1, 1], dtype=torch.uint8)  # only use open B-splines\n",
    "degree = 1  # B-spline degree of 1\n",
    "norm = True  # Normalize output by node degree.\n",
    "root_weight = torch.rand((2, 4), dtype=torch.float)  # separately weight root nodes\n",
    "bias = None  # do not apply an additional bias\n",
    "\n",
    "out = spline_conv(x, edge_index, pseudo, weight, kernel_size,\n",
    "                  is_open_spline, degree, norm, root_weight, bias)\n",
    "\n",
    "print(out.size())\n",
    "torch.Size([4, 4])"
   ]
  },
  {
   "cell_type": "code",
   "execution_count": null,
   "metadata": {},
   "outputs": [],
   "source": []
  }
 ],
 "metadata": {
  "kernelspec": {
   "display_name": "Python 3.9.12 ('dvs_graph')",
   "language": "python",
   "name": "python3"
  },
  "language_info": {
   "codemirror_mode": {
    "name": "ipython",
    "version": 3
   },
   "file_extension": ".py",
   "mimetype": "text/x-python",
   "name": "python",
   "nbconvert_exporter": "python",
   "pygments_lexer": "ipython3",
   "version": "3.9.12"
  },
  "orig_nbformat": 4,
  "vscode": {
   "interpreter": {
    "hash": "e437b5d2b1e10bcee58fb1cbbaaa358bee0b8dfa8a43626c47c3fd0ca3205649"
   }
  }
 },
 "nbformat": 4,
 "nbformat_minor": 2
}
